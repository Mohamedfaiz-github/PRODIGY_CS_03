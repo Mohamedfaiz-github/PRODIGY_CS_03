{
  "nbformat": 4,
  "nbformat_minor": 0,
  "metadata": {
    "colab": {
      "provenance": []
    },
    "kernelspec": {
      "name": "python3",
      "display_name": "Python 3"
    },
    "language_info": {
      "name": "python"
    }
  },
  "cells": [
    {
      "cell_type": "code",
      "execution_count": 3,
      "metadata": {
        "colab": {
          "base_uri": "https://localhost:8080/"
        },
        "id": "IfQLRhLiWL-u",
        "outputId": "0f9285d9-793e-4c85-d2c0-99b4eb7b32a6"
      },
      "outputs": [
        {
          "output_type": "stream",
          "name": "stdout",
          "text": [
            "Enter your password to check its strength: Hello@123\n",
            "Strong password!\n"
          ]
        }
      ],
      "source": [
        "import re\n",
        "\n",
        "def check_password_strength(password):\n",
        "    #Password length must be at least 8 characters\n",
        "    if len(password) < 8:\n",
        "        return \"Weak password: Must be at least 8 characters long.\"\n",
        "\n",
        "    #Password must contain at least one uppercase letter\n",
        "    if not re.search(r'[A-Z]', password):\n",
        "        return \"Weak password: Must contain at least one uppercase letter.\"\n",
        "\n",
        "    #Password must contain at least one lowercase letter\n",
        "    if not re.search(r'[a-z]', password):\n",
        "        return \"Weak password: Must contain at least one lowercase letter.\"\n",
        "\n",
        "    #Password must contain at least one digit\n",
        "    if not re.search(r'[0-9]', password):\n",
        "        return \"Weak password: Must contain at least one digit.\"\n",
        "\n",
        "    #Password must contain at least one special character\n",
        "    if not re.search(r'[@$!%*?&]', password):\n",
        "        return \"Weak password: Must contain at least one special character.\"\n",
        "\n",
        "    # If all criteria are met\n",
        "    return \"Strong password!\"\n",
        "\n",
        "# Example usage\n",
        "password = input(\"Enter your password to check its strength: \")\n",
        "result = check_password_strength(password)\n",
        "print(result)\n"
      ]
    }
  ]
}